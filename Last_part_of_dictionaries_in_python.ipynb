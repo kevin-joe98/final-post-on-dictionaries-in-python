{
  "nbformat": 4,
  "nbformat_minor": 0,
  "metadata": {
    "colab": {
      "provenance": []
    },
    "kernelspec": {
      "name": "python3",
      "display_name": "Python 3"
    },
    "language_info": {
      "name": "python"
    }
  },
  "cells": [
    {
      "cell_type": "code",
      "execution_count": null,
      "metadata": {
        "id": "lDOf1pcD2yhr"
      },
      "outputs": [],
      "source": []
    },
    {
      "cell_type": "markdown",
      "metadata": {
        "id": "6HrlfQc-KPIF"
      },
      "source": [
        "**Q 7:**\n",
        "\n",
        "Let'e improve the function in Q6.\n",
        "\n",
        "It will work the same for the same keys.\n",
        "\n",
        "But this time we will also include the different keys.\n",
        "\n",
        "Function name will be **sum_of_same_keys_value_of_distinct_ones**.\n",
        "\n",
        "**Hints:**\n",
        "* Check if both parameters are dictionary (dict)\n",
        "    * if not raise an error -> 'Both parameters must be dictionary type!'\n",
        "    * to check -> use isinstance() instead of type().\n",
        "    * isinstance(<variable>, <type>)\n",
        "* Check if both dictionaries have the same length\n",
        "    * if not raise an error -> 'Dictionaries must be the same length!'\n",
        "\n",
        "<pre>\n",
        "Parameters:\n",
        "d1 = {'a': 10, 'b': 30, 'c':50}\n",
        "d2 = {'a': 40, 'b': 60, 'd':90}\n",
        "\n",
        "Expected Output:\n",
        "{'a': 50, 'b': 90, 'c': 50, 'd': 90}\n",
        "</pre>"
      ]
    },
    {
      "cell_type": "code",
      "source": [],
      "metadata": {
        "id": "PdJsXivF26vi"
      },
      "execution_count": null,
      "outputs": []
    },
    {
      "cell_type": "code",
      "execution_count": null,
      "metadata": {
        "id": "iaJxeRMeKPIF"
      },
      "outputs": [],
      "source": [
        "# S 7:\n",
        "def sum_of_same_keys_value_of_distinct_ones(d1, d2):\n",
        "    all_keys = set(d1.keys()).union(d2.keys())\n",
        "    result_dict = {}\n",
        "\n",
        "    for key in all_keys:\n",
        "        if key in d1 and key in d2:\n",
        "            result_dict[key] = d1[key] + d2[key]\n",
        "        elif key in d1:\n",
        "            result_dict[key] = d1[key]\n",
        "        elif key in d2:\n",
        "            result_dict[key] = d2[key]\n",
        "\n",
        "    return result_dict\n",
        "\n",
        "\n",
        "\n"
      ]
    },
    {
      "cell_type": "code",
      "source": [],
      "metadata": {
        "id": "lwRxQqjx29mb"
      },
      "execution_count": null,
      "outputs": []
    },
    {
      "cell_type": "code",
      "execution_count": null,
      "metadata": {
        "colab": {
          "base_uri": "https://localhost:8080/"
        },
        "id": "MFt8XfKYKPIF",
        "outputId": "58daa3fb-6894-4150-bb37-0b936105bb2c"
      },
      "outputs": [
        {
          "output_type": "execute_result",
          "data": {
            "text/plain": [
              "{'a': 50, 'd': 90, 'b': 90, 'c': 50}"
            ]
          },
          "metadata": {},
          "execution_count": 20
        }
      ],
      "source": [
        "d1 = {'a': 10, 'b': 30, 'c':50}\n",
        "d2 = {'a': 40, 'b': 60, 'd':90}\n",
        "sum_of_same_keys_value_of_distinct_ones(d1, d2)"
      ]
    },
    {
      "cell_type": "code",
      "source": [],
      "metadata": {
        "id": "EPX7GtoK29o6"
      },
      "execution_count": null,
      "outputs": []
    },
    {
      "cell_type": "markdown",
      "metadata": {
        "id": "_U2vKWaNKPIG"
      },
      "source": [
        "**Q 8:**\n",
        "\n",
        "Define a function named **delete_odds**.\n",
        "\n",
        "It will take a dictionary as parameter.\n",
        "\n",
        "It will delete the items with odd indices from the dictionary and return a new dictionary with remaining items.\n",
        "\n",
        "**Hints:**\n",
        "* Do not change original dictionary (parameter)\n",
        "* `items()` for the loop\n",
        "* `enumerate()` for the index\n",
        "    \n",
        "<pre>\n",
        "Parameter Dictionary:\n",
        "dictionary = {'a': 'A', 'b': 'B', 'c': 'C', 'd': 'D', 'e': 'E', 'f': 'F'}\n",
        "\n",
        "Exptected Output:\n",
        " {'a': 'A', 'c': 'C', 'e': 'E'}\n",
        "</pre>"
      ]
    },
    {
      "cell_type": "code",
      "source": [],
      "metadata": {
        "id": "pO8WCoMd29rP"
      },
      "execution_count": null,
      "outputs": []
    },
    {
      "cell_type": "code",
      "execution_count": null,
      "metadata": {
        "id": "HORRIu6-KPIG"
      },
      "outputs": [],
      "source": [
        "# S 8:\n",
        "\n",
        "# Way 1\n",
        "def delete_odds(dictionary):\n",
        "    keys = list(dictionary.keys())\n",
        "    result_dict = {}\n",
        "\n",
        "    for index, key in enumerate(keys):\n",
        "        if index % 2 == 0:\n",
        "            result_dict[key] = dictionary[key]\n",
        "\n",
        "    return result_dict\n",
        "\n",
        "\n"
      ]
    },
    {
      "cell_type": "code",
      "source": [],
      "metadata": {
        "id": "CbmEeaqw29t3"
      },
      "execution_count": null,
      "outputs": []
    },
    {
      "cell_type": "code",
      "execution_count": null,
      "metadata": {
        "colab": {
          "base_uri": "https://localhost:8080/"
        },
        "id": "wjOUbtCRKPIG",
        "outputId": "cf85f3f9-de45-494f-c759-c465c64dc1e1"
      },
      "outputs": [
        {
          "output_type": "execute_result",
          "data": {
            "text/plain": [
              "{'a': 'A', 'c': 'C', 'e': 'E'}"
            ]
          },
          "metadata": {},
          "execution_count": 22
        }
      ],
      "source": [
        "dictionary = {'a': 'A', 'b': 'B', 'c': 'C', 'd': 'D', 'e': 'E', 'f': 'F'}\n",
        "\n",
        "evens = delete_odds(dictionary)\n",
        "\n",
        "evens"
      ]
    },
    {
      "cell_type": "code",
      "source": [],
      "metadata": {
        "id": "Ubz_NrNm29wO"
      },
      "execution_count": null,
      "outputs": []
    },
    {
      "cell_type": "markdown",
      "metadata": {
        "id": "rutxlUHqKPIO"
      },
      "source": [
        "**Q 9:**\n",
        "\n",
        "Define a function named **convert_lists_into_dict**.\n",
        "\n",
        "It will take two lists as parameters.\n",
        "\n",
        "The function will use the first list elements as Keys and second list elements as Values and it will create a dictionary.\n",
        "\n",
        "Then it will return this dictionary.\n",
        "\n",
        "**Hints:**\n",
        "* enumerate()\n",
        "\n",
        "<pre>\n",
        "Parameters:\n",
        "l_1 = ['name', 'lastname', 'age', 'gender']\n",
        "l_2 = ['John', 'Doe', 100, 'Male']\n",
        "\n",
        "Expected Output:\n",
        "{'name': 'John', 'lastname': 'Doe', 'age': 100, 'gender': 'Male'}\n",
        "</pre>"
      ]
    },
    {
      "cell_type": "code",
      "source": [],
      "metadata": {
        "id": "x--ve6sC29yT"
      },
      "execution_count": null,
      "outputs": []
    },
    {
      "cell_type": "code",
      "execution_count": null,
      "metadata": {
        "id": "rzmgZdCiKPIO"
      },
      "outputs": [],
      "source": [
        "# S 9:\n",
        "def convert_lists_into_dict(keys, values):\n",
        "    dictionary = {}\n",
        "\n",
        "    for i in range(min(len(keys), len(values))):\n",
        "        dictionary[keys[i]] = values[i]\n",
        "\n",
        "    return dictionary\n",
        "\n",
        "\n",
        "\n"
      ]
    },
    {
      "cell_type": "code",
      "source": [],
      "metadata": {
        "id": "UE9Xdeev3SNy"
      },
      "execution_count": null,
      "outputs": []
    },
    {
      "cell_type": "code",
      "execution_count": null,
      "metadata": {
        "colab": {
          "base_uri": "https://localhost:8080/"
        },
        "id": "aWxXxMc9KPIO",
        "outputId": "d3dff295-9afb-4661-817a-b97aa61331fe"
      },
      "outputs": [
        {
          "output_type": "stream",
          "name": "stdout",
          "text": [
            "{'name': 'John', 'lastname': 'Doe', 'age': 100, 'gender': 'Male'}\n"
          ]
        }
      ],
      "source": [
        "l_1 = ['name', 'lastname', 'age', 'gender']\n",
        "l_2 = ['John', 'Doe', 100, 'Male']\n",
        "\n",
        "employee = convert_lists_into_dict(l_1, l_2)\n",
        "\n",
        "print(employee)"
      ]
    },
    {
      "cell_type": "code",
      "source": [],
      "metadata": {
        "id": "pUOeCLoF3VTY"
      },
      "execution_count": null,
      "outputs": []
    },
    {
      "cell_type": "markdown",
      "metadata": {
        "id": "_ZM8b5l0KPIP"
      },
      "source": [
        "**Q 10:**\n",
        "\n",
        "Let's consider a function with keys being both numbers and letters.\n",
        "\n",
        "Example: {'a': 'A', 'b': 'B', 2: 200, 'd': 'D', 5: 300, 'f': 'F', 1: 50}\n",
        "\n",
        "Define a function named **alphabetical**.\n",
        "\n",
        "It will delete the elements with keys being number.\n",
        "\n",
        "And it will return the final dictionary which has only alphabetical keys.\n",
        "\n",
        "**Hints:**\n",
        "* Mutate the original dictionary that is the parameter\n",
        "* use two loops\n",
        "* `keys()` for loops\n",
        "* `pop()` for delete\n",
        "* to check if alphabetical -> `isalpha()`\n",
        "* keep in mind `isalpha()` is a string (str) function\n",
        "\n",
        "<pre>\n",
        "Parameter Dictionary:\n",
        "dictionary = {'a': 'A', 'b': 'B', 2: 200, 'd': 'D', 5: 300, 'f': 'F', 1: 50}\n",
        "\n",
        "Expected Output:\n",
        "dictionary before calling alphabetical: {'a': 'A', 'b': 'B', 2: 200, 'd': 'D', 5: 300, 'f': 'F', 1: 50}\n",
        "dictionary after calling alphabetical: {'a': 'A', 'b': 'B', 'd': 'D', 'f': 'F'}\n",
        "</pre>"
      ]
    },
    {
      "cell_type": "code",
      "source": [],
      "metadata": {
        "id": "JYi1AunM3Zvh"
      },
      "execution_count": null,
      "outputs": []
    },
    {
      "cell_type": "code",
      "execution_count": null,
      "metadata": {
        "id": "pJdkRwLjKPIP"
      },
      "outputs": [],
      "source": [
        "# S 10:\n",
        "def alphabetical(dictionary):\n",
        "    result_dict = {}\n",
        "\n",
        "    for key, value in dictionary.items():\n",
        "        if isinstance(key, str):\n",
        "            result_dict[key] = value\n",
        "\n",
        "    return result_dict\n",
        "\n",
        "\n",
        "\n"
      ]
    },
    {
      "cell_type": "code",
      "source": [],
      "metadata": {
        "id": "rYicZkfp3cle"
      },
      "execution_count": null,
      "outputs": []
    },
    {
      "cell_type": "code",
      "execution_count": null,
      "metadata": {
        "colab": {
          "base_uri": "https://localhost:8080/"
        },
        "id": "jJssGj7bKPIQ",
        "outputId": "99eb7af5-f05e-427f-81c9-dc41b6f0367d"
      },
      "outputs": [
        {
          "output_type": "stream",
          "name": "stdout",
          "text": [
            "dictionary before calling alphabetical: {'a': 'A', 'b': 'B', 2: 200, 'd': 'D', 5: 300, 'f': 'F', 1: 50}\n",
            "dictionary after calling alphabetical: {'a': 'A', 'b': 'B', 2: 200, 'd': 'D', 5: 300, 'f': 'F', 1: 50}\n"
          ]
        }
      ],
      "source": [
        "dictionary = {'a': 'A', 'b': 'B', 2: 200, 'd': 'D', 5: 300, 'f': 'F', 1: 50}\n",
        "print(\"dictionary before calling alphabetical:\", dictionary)\n",
        "\n",
        "alphabetical(dictionary)\n",
        "\n",
        "print(\"dictionary after calling alphabetical:\", dictionary)"
      ]
    }
  ]
}